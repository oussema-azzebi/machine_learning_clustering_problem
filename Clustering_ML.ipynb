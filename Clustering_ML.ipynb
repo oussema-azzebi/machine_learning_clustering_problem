{
 "cells": [
  {
   "cell_type": "markdown",
   "metadata": {},
   "source": [
    "# Part I : Quel(le) data scientist êtes-vous ?\n",
    "## Contexte de l’analyse\n",
    "\n",
    "Elu métier le plus sexy par la Harvard Business Review en octobre 2012, le data scientist représente un profil rare qui exige de nombreuses compétences.\n",
    "\n",
    "A partir d'un dataset Aquila, vous réaliserez :\n",
    "- un clustering non supervisé afin d'identifier 2 groupes de profils techniques distinctes\n",
    "- une prédiction des profils dont le métier n'est pas labellisé\n",
    "\n",
    "\n",
    "## Données\n",
    "data.csv contient 6 variables : \n",
    "    - 'Entreprise' correspond à une liste d'entreprises fictive\n",
    "    - 'Metier' correspond au métier parmi data scientist, lead data scientist, data engineer et data architecte\n",
    "    - 'Technologies' correspond aux compétences maîtrisées par le profil\n",
    "    - 'Diplome' correspond à son niveau scolaire (Bac, Master, PhD,...)\n",
    "    - 'Experience' correspond au nombre d'années d'expériences\n",
    "    - 'Ville' correspond au lieu de travail\n",
    "    \n",
    "\n",
    "\n",
    "## Répondez aux questions \n",
    "\n",
    "Bonne chance!"
   ]
  },
  {
   "cell_type": "code",
   "execution_count": 84,
   "metadata": {},
   "outputs": [],
   "source": [
    "# Import des libraries classique (numpy, pandas, ...)\n",
    "import pandas as pd\n",
    "import numpy as np\n",
    "import re\n",
    "import sklearn as sk\n",
    "import seaborn as sb\n",
    "from matplotlib import pyplot as plt\n",
    "plt.style.use('ggplot')"
   ]
  },
  {
   "cell_type": "markdown",
   "metadata": {},
   "source": [
    "### 1) Importer le tableau de données dans un dataframe "
   ]
  },
  {
   "cell_type": "code",
   "execution_count": 85,
   "metadata": {},
   "outputs": [],
   "source": [
    "# Import du dataframe \"data.csv\"\n",
    "df = pd.read_csv('data.csv', decimal=',')"
   ]
  },
  {
   "cell_type": "markdown",
   "metadata": {},
   "source": [
    "### 2) Combien y a t-il d'observations dans ce dataset? Y a t-il des valeurs manquantes? "
   ]
  },
  {
   "cell_type": "code",
   "execution_count": 86,
   "metadata": {},
   "outputs": [
    {
     "data": {
      "text/plain": [
       "9582"
      ]
     },
     "execution_count": 86,
     "metadata": {},
     "output_type": "execute_result"
    }
   ],
   "source": [
    "# Nombre d'observations dans le dataset\n",
    "df.shape[0]"
   ]
  },
  {
   "cell_type": "code",
   "execution_count": 87,
   "metadata": {},
   "outputs": [
    {
     "data": {
      "text/plain": [
       "True"
      ]
     },
     "execution_count": 87,
     "metadata": {},
     "output_type": "execute_result"
    }
   ],
   "source": [
    "# Verification des données manquantes\n",
    "df.isnull().values.any()"
   ]
  },
  {
   "cell_type": "markdown",
   "metadata": {},
   "source": [
    "### 3) Réaliser l'imputation des valeurs manquantes pour la variable \"Experience\" avec : \n",
    "- la valeur médiane pour les data scientists\n",
    "- la valeur moyenne pour les data engineers"
   ]
  },
  {
   "cell_type": "code",
   "execution_count": 88,
   "metadata": {},
   "outputs": [],
   "source": [
    "# imputation des données manquantes\n",
    "\n",
    "# Calcul de la medianne et la moyenne\n",
    "ds_median = df[df.Metier=='Data scientist'].median()[0]\n",
    "de_mean = df[df.Metier=='Data engineer'].mean()[0]\n",
    "\n",
    "#filtrer les colomnes d'interet\n",
    "ds_mask = (df['Metier']=='Data scientist')\n",
    "de_mask = (df['Metier']=='Data engineer')\n",
    "\n",
    "#imputation des valeurs manquantes\n",
    "df.loc[ds_mask, 'Experience'] = df.loc[ds_mask, 'Experience'].fillna(ds_median)\n",
    "df.loc[de_mask, 'Experience'] = df.loc[de_mask, 'Experience'].fillna(de_mean)\n"
   ]
  },
  {
   "cell_type": "markdown",
   "metadata": {},
   "source": [
    "### 4) Combien d'années d'expériences ont, en moyenne, chacun des profils : le data scientist, le lead data scientist et le data engineer en moyenne?"
   ]
  },
  {
   "cell_type": "code",
   "execution_count": 89,
   "metadata": {},
   "outputs": [
    {
     "name": "stdout",
     "output_type": "stream",
     "text": [
      "Moyenne experience Data scientist= 2.24\n",
      "Moyenne experience Lead data scientist= 3.97\n",
      "Moyenne experience Data engineer= 2.98\n"
     ]
    }
   ],
   "source": [
    "#Creation du mask pour profile lead data scientist \n",
    "lds_mask = (df['Metier']=='Lead data scientist')\n",
    "#Calcul des moyennes \n",
    "mean_exp_ds = df.loc[ds_mask, 'Experience'].mean()\n",
    "mean_exp_lds = df.loc[lds_mask, 'Experience'].mean()\n",
    "mean_exp_de = df.loc[de_mask, 'Experience'].mean()\n",
    "\n",
    "print('Moyenne experience Data scientist= %.2f'%mean_exp_ds)\n",
    "print('Moyenne experience Lead data scientist= %.2f'%mean_exp_lds)\n",
    "print('Moyenne experience Data engineer= %.2f'%mean_exp_de)"
   ]
  },
  {
   "cell_type": "markdown",
   "metadata": {},
   "source": [
    "### 5) Faire la représentation graphique de votre choix afin de comparer le nombre moyen d'années d'expériences pour chaque métier"
   ]
  },
  {
   "cell_type": "code",
   "execution_count": 90,
   "metadata": {
    "scrolled": true
   },
   "outputs": [
    {
     "data": {
      "text/plain": [
       "Text(0.5,1,\"Nombre moyen d'années d'expériences pour chaque métier\")"
      ]
     },
     "execution_count": 90,
     "metadata": {},
     "output_type": "execute_result"
    },
    {
     "data": {
      "image/png": "[encoded data removed]",
      "text/plain": [
       "<matplotlib.figure.Figure at 0x152bd5904e0>"
      ]
     },
     "metadata": {},
     "output_type": "display_data"
    }
   ],
   "source": [
    "#Representation graphique\n",
    "sb.barplot(df.Metier, df.Experience)\n",
    "plt.title('Nombre moyen d\\'années d\\'expériences pour chaque métier')\n"
   ]
  },
  {
   "cell_type": "markdown",
   "metadata": {},
   "source": [
    "### 6) Transformer la variable continue 'Experience' en une nouvelle variable catégorielle 'Exp_label' à 4 modalités: débutant, confirmé, avancé et expert\n",
    "- Veuillez expliquer votre choix du règle de transformation.  "
   ]
  },
  {
   "cell_type": "code",
   "execution_count": 91,
   "metadata": {},
   "outputs": [],
   "source": [
    "# 0-2 ans: debutant\n",
    "# 2-5 ans: confirmé\n",
    "# 5-10 ans: Avancé\n",
    "# >10 ans: Expert\n",
    "\n",
    "bins = [-1, 2, 5, 10, df['Experience'].max()]\n",
    "labels=['Débutant', 'Confirmé', 'Avancé' , 'Expert']\n",
    "df['Experience'] = pd.cut(df.Experience, bins=bins, labels=labels)\n",
    "\n",
    "#Renommage de la colonne expereince\n",
    "df = df.rename(columns={'Experience': 'Exp_label'})\n",
    "\n"
   ]
  },
  {
   "cell_type": "markdown",
   "metadata": {},
   "source": [
    "### 7) Quelles sont les 5 technologies les plus utilisées? Faites un graphique"
   ]
  },
  {
   "cell_type": "code",
   "execution_count": 92,
   "metadata": {
    "scrolled": true
   },
   "outputs": [
    {
     "data": {
      "text/plain": [
       "Text(0.5,1,'Technos les plus utilisées par nombre de personnes')"
      ]
     },
     "execution_count": 92,
     "metadata": {},
     "output_type": "execute_result"
    },
    {
     "data": {
      "image/png": "[encoded data removed]",
      "text/plain": [
       "<matplotlib.figure.Figure at 0x152b9e75438>"
      ]
     },
     "metadata": {},
     "output_type": "display_data"
    }
   ],
   "source": [
    "# Calcul des technos les plus utilisées\n",
    "technos = df['Technologies'].str.cat()\n",
    "technos = pd.Series(technos.split('/'))\n",
    "frequent_techno = technos.value_counts()[:5]\n",
    "\n",
    "#Plot des technos les plus utilisées\n",
    "sb.barplot(frequent_techno.index, frequent_techno)\n",
    "plt.title('Technos les plus utilisées par nombre de personnes')\n",
    "\n"
   ]
  },
  {
   "cell_type": "markdown",
   "metadata": {},
   "source": [
    "### 8) Réaliser une méthode de clustering non supervisée de votre choix pour faire apparaître 2 clusters que vous jugerez pertinents. Donnez les caractéristiques de chacun des clusters.\n",
    "-  Justifier la performance de votre algorithme grace à une métrique.\n",
    "-  Interpréter votre resultat.  "
   ]
  },
  {
   "cell_type": "code",
   "execution_count": 93,
   "metadata": {},
   "outputs": [
    {
     "data": {
      "text/plain": [
       "<Container object of 4 artists>"
      ]
     },
     "execution_count": 93,
     "metadata": {},
     "output_type": "execute_result"
    },
    {
     "data": {
      "image/png": "[encoded data removed]",
      "text/plain": [
       "<matplotlib.figure.Figure at 0x152bd5b32e8>"
      ]
     },
     "metadata": {},
     "output_type": "display_data"
    }
   ],
   "source": [
    "from sklearn.feature_extraction.text import TfidfVectorizer\n",
    "from sklearn.cluster import KMeans\n",
    "from sklearn.metrics import adjusted_rand_score\n",
    "\n",
    "my_text = list(df['Technologies'])\n",
    "\n",
    "#vectorize the text i.e. convert the strings to numeric features\n",
    "vectorizer = TfidfVectorizer(stop_words='english')\n",
    "X = vectorizer.fit_transform(my_text)\n",
    "\n",
    "true_k = 2\n",
    "model = KMeans(n_clusters=true_k, init='k-means++', max_iter=500, n_init=2)\n",
    "model.fit(X)\n",
    "df['Cluster'] = model.labels_\n",
    "\n",
    "# analyse des resultats du clustering\n",
    "cluster1 = df[df['Cluster']==0]\n",
    "cluster2 = df[df['Cluster']==1]\n",
    "\n",
    "fig, (ax1, ax2) = plt.subplots(nrows=2)\n",
    "ax1.bar(cluster1.Metier.value_counts().index, cluster1.Metier.value_counts())\n",
    "ax1.set_title('Cluster1 VS Cluster2')\n",
    "ax2.bar(cluster2.Metier.value_counts().index, cluster2.Metier.value_counts())\n"
   ]
  },
  {
   "cell_type": "markdown",
   "metadata": {},
   "source": [
    "# Interpretation des resultats\n",
    "\n",
    "- On a réalisé le clustering par rapport aux technologies utilisées par chaque profil\n",
    "- Comme résultat, on a eu un premier cluster ou la majorité sont des data architect. \n",
    "Dans le deuxième cluster la majorité des profils sont des data scientist et des data engineer \n"
   ]
  },
  {
   "cell_type": "markdown",
   "metadata": {},
   "source": [
    "### 9) Réaliser la prédiction des métiers manquants dans la base de données par l'algorithme de votre choix\n",
    "-  Justifier la performance de votre algorithme grace à une métrique.\n",
    "-  Interpréter votre resultat.  "
   ]
  },
  {
   "cell_type": "code",
   "execution_count": 94,
   "metadata": {},
   "outputs": [],
   "source": [
    "# Prediction des Metiers manquants\n",
    "from sklearn.ensemble import RandomForestClassifier\n",
    "\n",
    "# Vectorisation des technos utilisés \n",
    "my_text = list(df['Technologies'])\n",
    "vectorizer = TfidfVectorizer(stop_words='english')\n",
    "x = vectorizer.fit_transform(my_text)\n",
    "\n",
    "#filtrage des données ou l'information metier est disponible\n",
    "indices = np.where(pd.isnull(df['Metier']))\n",
    "train_mask = np.ones(x.shape[0], dtype=bool)\n",
    "train_mask[indices] = False\n",
    "x_train =  x[train_mask]\n",
    "\n",
    "# Colonne des metier pour train\n",
    "y_train = df[train_mask]['Metier']\n",
    "\n",
    "\n",
    "#filtrage des données ou l'information metier est indisponible (Données a predire)\n",
    "indices = np.where(np.logical_not(pd.isnull(df['Metier'])))\n",
    "test_mask = np.ones(x.shape[0], dtype=bool)\n",
    "test_mask[indices] = False\n",
    "x_test =  x[test_mask]\n",
    "\n",
    "# Creation du model de prediction\n",
    "clf = RandomForestClassifier(n_estimators=10)\n",
    "clf.fit(x_train, y_train)\n",
    "\n",
    "predictions = clf.predict(x_test)\n",
    "\n",
    "#missing_indices = np.where(pd.isnull(df['Metier']))\n",
    "#for i,idx in enumerate(missing_indices):\n",
    "#    df['Metier'][idx] = predictions[i]\n",
    "\n"
   ]
  },
  {
   "cell_type": "markdown",
   "metadata": {},
   "source": [
    "### 10) Décrire de façon détaillée les différentes étapes pour mener à bien un projet data complexe.\n",
    "\n",
    "Dans le cadre d’une campagne de recrutement vous avez reçu un ensemble de cv qui ne sont pas à jour (le poste actuel n’est pas présent). Deux exemple de CV vous sont donnés en pièce jointe (il n'y a pas de mise en page type). Tous les CV sont au format PDF.\n",
    "\n",
    "On souhaite connaitre le poste actuel de chaque candidat.\n",
    "\n",
    "-  Quelles sont les différentes étapes nécessaires à la réalisation d'un tel projet?\n",
    "-  Pour chaque étape, détaillez les taches à accomplir, les méthodes à suivre, les pistes possibles, les points critiques.\n",
    "-  Justifiez consciencieusement vos choix\n"
   ]
  },
  {
   "cell_type": "markdown",
   "metadata": {},
   "source": [
    "* Pour ce problème de prédiction, on pourrait suivre la démarche suivante :\n",
    "\n",
    "- On crée un fichier csv avec deux colonnes : une colonne nommée \"Id_candidat\" et une \n",
    "  colonne nommée \"Technologies\" \n",
    "\n",
    "- Pour chaque candidats (chaque CV), on extrait ces compétences et on les injectes dans \n",
    "  sa ligne appropriée dans la colonne \"Technologies\"\n",
    "\n",
    "- On convertie \"les Technologies\" de chaque candidat qui sont en type texte en type sparse matrix.\n",
    "\n",
    "- Maitenant qu'on dispose des techno en type sparse matrix, on pourrait réaliser la prédiction.\n",
    "  En effet, dans la question 9 on a réalisé un modèle de machine learning capable de prédire \n",
    "  le métier d'un candidat à partir des ses compétences.\n",
    "\n",
    "- On applique directement notre modèle crée dans la question 9 aux données d'entrées (techno au type sparse matrix)\n",
    "\n",
    "- En sortie, on aurait le métier prédit pour chaque candidat, et on pourrait l'ajouter dans une colonne nommée \"Métier\".\n",
    "\n",
    "  \n",
    " "
   ]
  },
  {
   "cell_type": "code",
   "execution_count": null,
   "metadata": {},
   "outputs": [],
   "source": []
  }
 ],
 "metadata": {
  "kernelspec": {
   "display_name": "Python 3",
   "language": "python",
   "name": "python3"
  },
  "language_info": {
   "codemirror_mode": {
    "name": "ipython",
    "version": 3
   },
   "file_extension": ".py",
   "mimetype": "text/x-python",
   "name": "python",
   "nbconvert_exporter": "python",
   "pygments_lexer": "ipython3",
   "version": "3.7.6"
  }
 },
 "nbformat": 4,
 "nbformat_minor": 2
}
